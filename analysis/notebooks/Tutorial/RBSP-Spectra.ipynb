version https://git-lfs.github.com/spec/v1
oid sha256:d22e5072a34007064accbfc01c4cfebaf09064a1d74f2cdb0c52f4d22b7aaa63
size 35158
