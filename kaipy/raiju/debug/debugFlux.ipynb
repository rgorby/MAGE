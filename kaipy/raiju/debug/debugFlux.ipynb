version https://git-lfs.github.com/spec/v1
oid sha256:89cc9defde02006f6949c30578fb345c1a8a36281034ba5b3ff9e097d6bad308
size 24828
