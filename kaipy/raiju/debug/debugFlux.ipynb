version https://git-lfs.github.com/spec/v1
oid sha256:67ca0a1fae32eead20b54e979ce9f1d82529702f757b80e4ea08ff0b0ff2ff95
size 300480
